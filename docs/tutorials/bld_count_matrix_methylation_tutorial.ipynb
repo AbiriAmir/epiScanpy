{
 "cells": [
  {
   "cell_type": "markdown",
   "metadata": {},
   "source": [
    "## Building the methylation count matrices\n",
    "\n",
    "In order to build count matrices for a small number of cells\n",
    "- Start by dowmnloading the test dataset here: https://drive.google.com/open?id=1TnaVihYDPQ5IUZP3ZQlv7hQIwJVsWnUn"
   ]
  },
  {
   "cell_type": "code",
   "execution_count": 2,
   "metadata": {},
   "outputs": [],
   "source": [
    "import episcanpy.api as epi\n",
    "import pandas as pd\n",
    "import anndata as ad"
   ]
  },
  {
   "cell_type": "markdown",
   "metadata": {},
   "source": [
    "We first define two set of features for the count matrices. \n",
    "\n",
    "It requires to both load the set of annotations and generate windows (100kb long)\n"
   ]
  },
  {
   "cell_type": "code",
   "execution_count": 3,
   "metadata": {},
   "outputs": [
    {
     "name": "stdout",
     "output_type": "stream",
     "text": [
      "0.10488486289978027 seconds\n"
     ]
    }
   ],
   "source": [
    "promoters = epi.ct.load_features('../methylation_play_data/mouse_epd_promoters.bed') # generate features\n",
    "p_names = epi.ct.name_features(promoters) # extract name of the features - produce unique"
   ]
  },
  {
   "cell_type": "code",
   "execution_count": 4,
   "metadata": {},
   "outputs": [
    {
     "name": "stdout",
     "output_type": "stream",
     "text": [
      "0.44245481491088867 seconds\n"
     ]
    }
   ],
   "source": [
    "windows = epi.ct.make_windows(100000) # generate features\n",
    "w_names = epi.ct.name_features(windows) # extract name of the features"
   ]
  },
  {
   "cell_type": "markdown",
   "metadata": {},
   "source": [
    "Now that the opbtained the potential feature spaces we need to identify the methylation summaries of all cells necessary to build the different count matrices. \n",
    "\n",
    "The standard input correspond to methylpy methylation summaries."
   ]
  },
  {
   "cell_type": "code",
   "execution_count": 5,
   "metadata": {},
   "outputs": [],
   "source": [
    "path_cells = '../methylation_play_data/'\n",
    "cells = ['cell1.tsv', 'cell2.tsv', 'cell3.tsv', 'cell4.tsv', 'cell5.tsv']"
   ]
  },
  {
   "cell_type": "code",
   "execution_count": 6,
   "metadata": {},
   "outputs": [
    {
     "name": "stdout",
     "output_type": "stream",
     "text": [
      "0 cell1.tsv\n",
      "1 cell2.tsv\n",
      "2 cell3.tsv\n",
      "3 cell4.tsv\n",
      "4 cell5.tsv\n",
      "60.72653293609619 seconds\n"
     ]
    }
   ],
   "source": [
    "epi.ct.build_count_mtx(cells,\n",
    "                       annotation=[windows, promoters], # all annotations you want to build your matrix for\n",
    "                       path=path_cells,\n",
    "                       output_file=['test_windows_CG.txt', 'test_promoters_CG.txt'], # output file names\n",
    "                       meth_context='CG', # cytosine context to consider\n",
    "                       feature_names= [w_names, p_names], # name of the features if you want to write them down\n",
    "                       threshold=[1, 5])# minimum number of cytosine/reads to have at any given feature to \n",
    "                                        # not consider the feature to have a missing methylation level"
   ]
  },
  {
   "cell_type": "markdown",
   "metadata": {},
   "source": [
    "To build a count matrix based on cytosine not in a CG context, simply change teh meth_context argument to 'CH'"
   ]
  },
  {
   "cell_type": "code",
   "execution_count": 7,
   "metadata": {},
   "outputs": [
    {
     "name": "stdout",
     "output_type": "stream",
     "text": [
      "0 cell1.tsv\n",
      "1 cell2.tsv\n",
      "2 cell3.tsv\n",
      "3 cell4.tsv\n",
      "4 cell5.tsv\n",
      "228.89920330047607 seconds\n"
     ]
    }
   ],
   "source": [
    "epi.ct.build_count_mtx(cells,\n",
    "                       annotation=[windows, promoters],\n",
    "                       path=path_cells,\n",
    "                       output_file=['test_windows_CH.txt', 'test_promoters_CH.txt'],\n",
    "                       meth_context='CH',\n",
    "                       feature_names= [w_names, p_names],\n",
    "                       threshold=[1, 5])"
   ]
  },
  {
   "cell_type": "markdown",
   "metadata": {},
   "source": [
    "If you don't want to write the count matrix down but keep it as loaded matrix:"
   ]
  },
  {
   "cell_type": "code",
   "execution_count": 8,
   "metadata": {},
   "outputs": [
    {
     "name": "stdout",
     "output_type": "stream",
     "text": [
      "0 cell1.tsv\n",
      "1 cell2.tsv\n",
      "2 cell3.tsv\n",
      "3 cell4.tsv\n",
      "4 cell5.tsv\n",
      "60.9817430973053 seconds\n"
     ]
    }
   ],
   "source": [
    "w_mtx, p_mtx = epi.ct.build_count_mtx(cells,\n",
    "                                      annotation=[windows, promoters],\n",
    "                                      path=path_cells,\n",
    "                                      output_file=None,\n",
    "                                      meth_context='CG',\n",
    "                                      threshold=[1, 5])"
   ]
  },
  {
   "cell_type": "code",
   "execution_count": 9,
   "metadata": {},
   "outputs": [
    {
     "data": {
      "text/plain": [
       "(5, 18902)"
      ]
     },
     "execution_count": 9,
     "metadata": {},
     "output_type": "execute_result"
    }
   ],
   "source": [
    "p_mtx.shape"
   ]
  },
  {
   "cell_type": "markdown",
   "metadata": {},
   "source": [
    "To load the count matrix produced as adata object:"
   ]
  },
  {
   "cell_type": "code",
   "execution_count": 10,
   "metadata": {},
   "outputs": [],
   "source": [
    "adata_p = ad.AnnData(p_mtx, obs=pd.DataFrame(index=cells), var=pd.DataFrame(index=p_names))"
   ]
  },
  {
   "cell_type": "code",
   "execution_count": 11,
   "metadata": {},
   "outputs": [
    {
     "data": {
      "text/plain": [
       "AnnData object with n_obs × n_vars = 5 × 18902 "
      ]
     },
     "execution_count": 11,
     "metadata": {},
     "output_type": "execute_result"
    }
   ],
   "source": [
    "adata_p"
   ]
  },
  {
   "cell_type": "markdown",
   "metadata": {},
   "source": [
    "Finally load the metadata you have on your cells and save the matrix as an AnnData object."
   ]
  },
  {
   "cell_type": "code",
   "execution_count": 12,
   "metadata": {},
   "outputs": [
    {
     "name": "stdout",
     "output_type": "stream",
     "text": [
      "0.025742053985595703 seconds\n"
     ]
    }
   ],
   "source": [
    "epi.pp.load_metadata(adata_p, '../methylation_play_data/mouse_annot_5cells_Luo17.csv')"
   ]
  },
  {
   "cell_type": "code",
   "execution_count": 13,
   "metadata": {
    "scrolled": true
   },
   "outputs": [
    {
     "name": "stderr",
     "output_type": "stream",
     "text": [
      "... storing 'Animal age' as categorical\n",
      "... storing 'FACS date' as categorical\n",
      "... storing 'Brain area' as categorical\n",
      "... storing 'Laminar layer' as categorical\n",
      "... storing 'Labeling' as categorical\n",
      "... storing 'FACS channel' as categorical\n",
      "... storing 'FACS count' as categorical\n",
      "... storing 'Bisulfite conversion method' as categorical\n",
      "... storing 'Library type' as categorical\n",
      "... storing 'Library pool' as categorical\n",
      "... storing 'Index i5' as categorical\n",
      "... storing 'Index i7' as categorical\n",
      "... storing 'i5 sequence' as categorical\n",
      "... storing 'i7 sequence' as categorical\n",
      "... storing 'random primer index' as categorical\n",
      "... storing 'random primer index sequence' as categorical\n",
      "... storing 'Sequencing run mode' as categorical\n",
      "... storing 'Neuron type' as categorical\n"
     ]
    }
   ],
   "source": [
    "adata_p.write('promoter_matrix_test_CG.h5ad')"
   ]
  },
  {
   "cell_type": "markdown",
   "metadata": {},
   "source": [
    "For further operation on the matrices see the second part the methylation tutorials on quality controls, processing, clustering and cell type identification."
   ]
  }
 ],
 "metadata": {
  "kernelspec": {
   "display_name": "Python 3",
   "language": "python",
   "name": "python3"
  },
  "language_info": {
   "codemirror_mode": {
    "name": "ipython",
    "version": 3
   },
   "file_extension": ".py",
   "mimetype": "text/x-python",
   "name": "python",
   "nbconvert_exporter": "python",
   "pygments_lexer": "ipython3",
   "version": "3.6.8"
  }
 },
 "nbformat": 4,
 "nbformat_minor": 2
}
